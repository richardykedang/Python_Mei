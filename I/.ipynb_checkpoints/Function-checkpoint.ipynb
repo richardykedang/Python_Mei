{
 "cells": [
  {
   "cell_type": "code",
   "execution_count": 4,
   "id": "5dd93c3c",
   "metadata": {},
   "outputs": [
    {
     "name": "stdout",
     "output_type": "stream",
     "text": [
      "provide the first number : 1\n",
      "+\n",
      "*\n",
      "/\n",
      "-\n",
      "pick an operation from the line above : +\n",
      "provide the next number : 2\n",
      "1 + 2 = 3\n",
      "type \"y\" to continue calculating with 3, or type \"n\" to start a new calculation: n\n"
     ]
    }
   ],
   "source": [
    "# Tambah\n",
    "def Tambah(n1,n2):\n",
    "    return n1+n2\n",
    "# kurang\n",
    "def Kurang(n1,n2):\n",
    "    return n1-n2\n",
    "# kali\n",
    "def Kali(n1,n2):\n",
    "    return n1*n2\n",
    "# bagi\n",
    "def Bagi(n1,n2):\n",
    "    return n1/n2\n",
    "\n",
    "# create dictionary\n",
    "operation = {\n",
    "    \"+\" : Tambah,\n",
    "    \"*\" : Kali,\n",
    "    \"/\" : Bagi,\n",
    "    \"-\" : Kurang\n",
    "}\n",
    "\n",
    "# looping operation\n",
    "def calculator():\n",
    "    \n",
    "    # input\n",
    "    num1 = int(input(\"provide the first number : \"))\n",
    "    \n",
    "    #looping dictionary\n",
    "    for symbol in operation:\n",
    "        print(symbol)\n",
    "        \n",
    "    #add flag\n",
    "    should_continue = True\n",
    "    \n",
    "    while should_continue:\n",
    "        operation_symbol = input(\"pick an operation from the line above : \" )\n",
    "        num2 = int(input(\"provide the next number : \"))\n",
    "        calculation_function = operation[operation_symbol]\n",
    "        first_answer = calculation_function(num1,num2)\n",
    "        print(f\"{num1} {operation_symbol} {num2} = {first_answer}\")\n",
    "        \n",
    "        if input(f'type \"y\" to continue calculating with {first_answer}, or type \"n\" to start a new calculation: ') == 'y':\n",
    "            num1 = first_answer\n",
    "        else:\n",
    "            should_continue = False\n",
    "            calculator()\n",
    "        \n",
    "calculator()\n",
    "    "
   ]
  },
  {
   "cell_type": "code",
   "execution_count": null,
   "id": "5739ddea",
   "metadata": {},
   "outputs": [],
   "source": []
  },
  {
   "cell_type": "code",
   "execution_count": 21,
   "id": "58e1f8ce",
   "metadata": {},
   "outputs": [
    {
     "name": "stdout",
     "output_type": "stream",
     "text": [
      "the solution is : mobilio\n",
      "['_', '_', '_', '_', '_', '_', '_']\n",
      "guess the letter : m\n",
      "['m', '_', '_', '_', '_', '_', '_']\n",
      "guess the letter : o\n",
      "['m', 'o', '_', '_', '_', '_', 'o']\n",
      "guess the letter : b\n",
      "['m', 'o', 'b', '_', '_', '_', 'o']\n",
      "guess the letter : i\n",
      "['m', 'o', 'b', 'i', '_', 'i', 'o']\n",
      "guess the letter : lio\n",
      "['m', 'o', 'b', 'i', '_', 'i', 'o']\n",
      "guess the letter : l\n",
      "['m', 'o', 'b', 'i', 'l', 'i', 'o']\n",
      "You Win\n"
     ]
    }
   ],
   "source": [
    "carList = [\"avanza\",\"mobilio\",\"xenia\"]\n",
    "\n",
    "\n",
    "#Todo 1 - Randomly choose a word from the list and assign it into variable\n",
    "import random\n",
    "\n",
    "choosen_car = random.choice(carList)\n",
    "# Unit Test\n",
    "print(f\"the solution is : {choosen_car}\")\n",
    "# Todo  - set lives equal 6\n",
    "lives = 6\n",
    "\n",
    "display = []\n",
    "word_length = len(choosen_car)\n",
    "for letter in range(word_length):\n",
    "    display += \"_\"\n",
    "print(display)\n",
    "\n",
    "end_of_game = False\n",
    "while not end_of_game:\n",
    "# Todo  - Ask the user to guess a letter\n",
    "    guess = input(\"guess the letter : \" ).lower()\n",
    "\n",
    "    for position in range(word_length):\n",
    "        letter = choosen_car[position]\n",
    "        # print(letter)\n",
    "        if letter == guess:\n",
    "            display[position] = letter\n",
    "    print(display)\n",
    "# Todo  - check the guess letter if not in the chosen word, then reduce lives by 1 and if lives = 0 print lose\n",
    "    if guess not in choosen_car:\n",
    "        lives -= 1\n",
    "        if lives == 0:\n",
    "            end_of_game = True\n",
    "            print(\"You Lose\")\n",
    "\n",
    "    if \"_\" not in display:\n",
    "        end_of_game = True\n",
    "        print(\"You Win\")\n"
   ]
  },
  {
   "cell_type": "code",
   "execution_count": null,
   "id": "5f49e430",
   "metadata": {},
   "outputs": [],
   "source": []
  },
  {
   "cell_type": "code",
   "execution_count": null,
   "id": "7e619bb3",
   "metadata": {},
   "outputs": [],
   "source": []
  }
 ],
 "metadata": {
  "kernelspec": {
   "display_name": "Python 3 (ipykernel)",
   "language": "python",
   "name": "python3"
  },
  "language_info": {
   "codemirror_mode": {
    "name": "ipython",
    "version": 3
   },
   "file_extension": ".py",
   "mimetype": "text/x-python",
   "name": "python",
   "nbconvert_exporter": "python",
   "pygments_lexer": "ipython3",
   "version": "3.9.7"
  }
 },
 "nbformat": 4,
 "nbformat_minor": 5
}
