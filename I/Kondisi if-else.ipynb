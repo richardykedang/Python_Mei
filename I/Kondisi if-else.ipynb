{
 "cells": [
  {
   "cell_type": "code",
   "execution_count": 1,
   "id": "186e2496",
   "metadata": {},
   "outputs": [],
   "source": [
    "#make pizza order with rules\n",
    "# small pizza : 15\n",
    "# Medium Pizza : 20\n",
    "# Large Pizza : 25\n",
    "# extra peperoni for small pizza : +2\n",
    "# extra peperoni for medium or large : +3\n",
    "# extra cheese for any pizza : +1\n",
    "\n",
    "# input:\n",
    "# size : L\n",
    "# add Peperoni : Y\n",
    "# extra cheese : N\n",
    "\n",
    "# output\n",
    "# your total bill is 28\n",
    "\n",
    "# print(\"Welcome To Python Pizza Delivery\")\n",
    "# size = input(\"What size do you want ? \")\n",
    "# addPepperoni = input(\"Do you want Pepperoni ? \")\n",
    "# extraCheese = input(\"Do you want extra cheese ? \")"
   ]
  },
  {
   "cell_type": "code",
   "execution_count": 3,
   "id": "0586aa60",
   "metadata": {},
   "outputs": [
    {
     "name": "stdout",
     "output_type": "stream",
     "text": [
      "What size do you want L, M, or S ? L\n",
      "Do you want Pepperoni ? Y\n",
      "Do you want extra cheese ? N\n",
      "your final bill is 28\n"
     ]
    }
   ],
   "source": [
    "size = input(\"What size do you want L, M, or S ? \")\n",
    "addPepperoni = input(\"Do you want Pepperoni ? \")\n",
    "extraCheese = input(\"Do you want extra cheese ? \").upper()\n",
    "bill = 0\n",
    "\n",
    "if size == 'L':\n",
    "    bill += 25\n",
    "elif size == 'M':\n",
    "    bill += 20\n",
    "elif size == 'S':\n",
    "    bill += 15\n",
    "    \n",
    "if addPepperoni == 'Y':\n",
    "    if size == 'S':\n",
    "        bill += 2\n",
    "    else:\n",
    "        bill += 3\n",
    "        \n",
    "if extraCheese == 'Y':\n",
    "    bill += 1\n",
    "    \n",
    "print(f\"your final bill is {bill}\")\n",
    "\n"
   ]
  },
  {
   "cell_type": "code",
   "execution_count": 4,
   "id": "424a3a97",
   "metadata": {},
   "outputs": [
    {
     "name": "stdout",
     "output_type": "stream",
     "text": [
      "whats your height : 130\n",
      "whats your age : 44\n",
      "you can ride\n",
      "everything is free\n",
      "Do you wany a photo taken ? Y or N y\n",
      "your bill is 3\n"
     ]
    }
   ],
   "source": [
    "# logical operator\n",
    "height = int(input(\"whats your height : \") )\n",
    "age = int(input(\"whats your age : \") )\n",
    "bill = 0\n",
    "\n",
    "if height > 120:\n",
    "    print(\"you can ride\")\n",
    "    if age < 12:\n",
    "        bill = 5\n",
    "        print(\"please pay $5\")\n",
    "    elif age < 18:\n",
    "        bill = 7\n",
    "        print(\"please pay $7\")\n",
    "    elif age >= 44 and age <= 55:\n",
    "        print(\"everything is free\")\n",
    "    else:\n",
    "        bill = 12\n",
    "        print(\"please pay $12\")\n",
    "    photo = input(\"Do you wany a photo taken ? Y or N \")\n",
    "    if photo == \"Y\" or photo == \"y\":\n",
    "        bill += 3\n",
    "        print(f\"your bill is {bill}\")\n",
    "    else:\n",
    "        print(f\"your bill is {bill}\")\n",
    "else:\n",
    "    print(\"sorry\")"
   ]
  },
  {
   "cell_type": "code",
   "execution_count": 7,
   "id": "3b3431d4",
   "metadata": {},
   "outputs": [
    {
     "name": "stdout",
     "output_type": "stream",
     "text": [
      "whats your name ? anda\n",
      "you have 2 a char in your name\n"
     ]
    }
   ],
   "source": [
    "# count and lower case\n",
    "word = input(\"whats your name ? \").lower()\n",
    "result = word.count('a')\n",
    "print(f\"you have {result} a char in your name\")"
   ]
  },
  {
   "cell_type": "code",
   "execution_count": 36,
   "id": "3f0ebaf6",
   "metadata": {},
   "outputs": [
    {
     "data": {
      "text/plain": [
       "1"
      ]
     },
     "execution_count": 36,
     "metadata": {},
     "output_type": "execute_result"
    }
   ],
   "source": [
    "# random\n",
    "import random\n",
    "random.seed(2)\n",
    "randomInteger = random.randint(1,10)\n",
    "randomInteger"
   ]
  },
  {
   "cell_type": "code",
   "execution_count": 24,
   "id": "d8959fe3",
   "metadata": {},
   "outputs": [
    {
     "data": {
      "text/plain": [
       "0.5692038748222122"
      ]
     },
     "execution_count": 24,
     "metadata": {},
     "output_type": "execute_result"
    }
   ],
   "source": [
    "randomFloat = random.random()\n",
    "randomFloat"
   ]
  },
  {
   "cell_type": "code",
   "execution_count": 17,
   "id": "ec22fe9d",
   "metadata": {},
   "outputs": [
    {
     "data": {
      "text/plain": [
       "2.1243514185821115"
      ]
     },
     "execution_count": 17,
     "metadata": {},
     "output_type": "execute_result"
    }
   ],
   "source": [
    "#random float 0.000 - 5.000\n",
    "randomby5 = random.random() * 5\n",
    "randomby5"
   ]
  },
  {
   "cell_type": "markdown",
   "id": "a9c8beff",
   "metadata": {},
   "source": [
    "# List / Array"
   ]
  },
  {
   "cell_type": "code",
   "execution_count": 38,
   "id": "1d27cb24",
   "metadata": {},
   "outputs": [
    {
     "data": {
      "text/plain": [
       "['Jakarta', 'Jabar', 'Bali', 'Jatim']"
      ]
     },
     "execution_count": 38,
     "metadata": {},
     "output_type": "execute_result"
    }
   ],
   "source": [
    "IndonesiaProv = ['Jakarta', 'Jabar', 'Bali', 'Jatim']\n",
    "IndonesiaProv"
   ]
  },
  {
   "cell_type": "code",
   "execution_count": 43,
   "id": "25c609c9",
   "metadata": {},
   "outputs": [
    {
     "data": {
      "text/plain": [
       "['Jakarta', 'Jabar', 'Bali']"
      ]
     },
     "execution_count": 43,
     "metadata": {},
     "output_type": "execute_result"
    }
   ],
   "source": [
    "#slice array\n",
    "IndonesiaProv[:3] # start , end, step"
   ]
  },
  {
   "cell_type": "code",
   "execution_count": 45,
   "id": "e9c2bc34",
   "metadata": {},
   "outputs": [
    {
     "data": {
      "text/plain": [
       "'Bali'"
      ]
     },
     "execution_count": 45,
     "metadata": {},
     "output_type": "execute_result"
    }
   ],
   "source": [
    "#last array\n",
    "IndonesiaProv[-2]"
   ]
  },
  {
   "cell_type": "code",
   "execution_count": 47,
   "id": "b26bdc79",
   "metadata": {},
   "outputs": [
    {
     "data": {
      "text/plain": [
       "['Kalimantan', 'Jabar', 'Bali', 'Jatim']"
      ]
     },
     "execution_count": 47,
     "metadata": {},
     "output_type": "execute_result"
    }
   ],
   "source": [
    "# change index array 0\n",
    "IndonesiaProv[0] = 'Kalimantan'\n",
    "IndonesiaProv"
   ]
  },
  {
   "cell_type": "code",
   "execution_count": 48,
   "id": "55c8a929",
   "metadata": {},
   "outputs": [
    {
     "data": {
      "text/plain": [
       "['Kalimantan', 'Jabar', 'Bali', 'Jatim', 'Sumatra']"
      ]
     },
     "execution_count": 48,
     "metadata": {},
     "output_type": "execute_result"
    }
   ],
   "source": [
    "# add new single element from last index\n",
    "IndonesiaProv.append('Sumatra')\n",
    "IndonesiaProv"
   ]
  },
  {
   "cell_type": "code",
   "execution_count": 50,
   "id": "e1ad348d",
   "metadata": {},
   "outputs": [
    {
     "data": {
      "text/plain": [
       "['Kalimantan', 'Jabar', 'Bali', 'Jatim', 'Sumatra', 'Papua', 'Ntt']"
      ]
     },
     "execution_count": 50,
     "metadata": {},
     "output_type": "execute_result"
    }
   ],
   "source": [
    "# add new multiple element from the last index\n",
    "IndonesiaProv.extend(['Papua', 'Ntt'])\n",
    "IndonesiaProv"
   ]
  },
  {
   "cell_type": "code",
   "execution_count": 55,
   "id": "941e4ba5",
   "metadata": {},
   "outputs": [
    {
     "name": "stdout",
     "output_type": "stream",
     "text": [
      "Please provide the names with comma separator : Jon, Danny, James\n",
      "['Jon', 'Danny', 'James']\n"
     ]
    }
   ],
   "source": [
    "# create random list to choose who will pay the bill use random module\n",
    "# input : Jon, Danny, James\n",
    "# output : Jon will be pay the bills\n",
    "\n",
    "import random\n",
    "name = input(\"Please provide the names with comma separator : \")\n",
    "#print(name[0])\n",
    "#split into array\n",
    "names = name.split(\", \")\n",
    "print(names)"
   ]
  },
  {
   "cell_type": "code",
   "execution_count": 56,
   "id": "dc4afd7c",
   "metadata": {},
   "outputs": [
    {
     "data": {
      "text/plain": [
       "3"
      ]
     },
     "execution_count": 56,
     "metadata": {},
     "output_type": "execute_result"
    }
   ],
   "source": [
    "# get total number of list item\n",
    "numItem = len(names)\n",
    "numItem"
   ]
  },
  {
   "cell_type": "code",
   "execution_count": 61,
   "id": "021374ef",
   "metadata": {
    "scrolled": true
   },
   "outputs": [
    {
     "name": "stdout",
     "output_type": "stream",
     "text": [
      "1\n"
     ]
    }
   ],
   "source": [
    "# generate random number between 0 to i\n",
    "randomChoices = random.randint(0, numItem) # range 0 - 3\n",
    "print(randomChoices)"
   ]
  },
  {
   "cell_type": "code",
   "execution_count": 63,
   "id": "e77b3f55",
   "metadata": {},
   "outputs": [
    {
     "name": "stdout",
     "output_type": "stream",
     "text": [
      "Danny will pays the bills\n"
     ]
    }
   ],
   "source": [
    "personwhoWillPay = names[randomChoices] # names[1]\n",
    "print(f\"{personwhoWillPay} will pays the bills\")"
   ]
  },
  {
   "cell_type": "code",
   "execution_count": 73,
   "id": "1edf09d9",
   "metadata": {},
   "outputs": [
    {
     "data": {
      "text/plain": [
       "['hello']"
      ]
     },
     "execution_count": 73,
     "metadata": {},
     "output_type": "execute_result"
    }
   ],
   "source": [
    "# list\n",
    "# Given this nested list, use indexing to grab the word \"hello\" **\n",
    "lst = [1,2,[3,4],[5,[100,200,['hello']],23,11],1,7]\n",
    "lst[3][1][-1]"
   ]
  },
  {
   "cell_type": "code",
   "execution_count": 75,
   "id": "d0d328df",
   "metadata": {},
   "outputs": [
    {
     "data": {
      "text/plain": [
       "'sport'"
      ]
     },
     "execution_count": 75,
     "metadata": {},
     "output_type": "execute_result"
    }
   ],
   "source": [
    "# grab sport\n",
    "tweet = \"hello #sport\"\n",
    "tweet.split('#')[-1]\n"
   ]
  },
  {
   "cell_type": "code",
   "execution_count": 76,
   "id": "6a2ec126",
   "metadata": {},
   "outputs": [
    {
     "data": {
      "text/plain": [
       "'Mustang'"
      ]
     },
     "execution_count": 76,
     "metadata": {},
     "output_type": "execute_result"
    }
   ],
   "source": [
    "#dictiornary\n",
    "thisdict = {\n",
    "    \n",
    "  \"brand\": \"Ford\",\n",
    "  \"model\": \"Mustang\",\n",
    "  \"year\": 1964\n",
    "}\n",
    "thisdict['model']\n"
   ]
  },
  {
   "cell_type": "code",
   "execution_count": 82,
   "id": "9a50c55a",
   "metadata": {},
   "outputs": [
    {
     "data": {
      "text/plain": [
       "{'nama': 'ana', 'jk': 'p'}"
      ]
     },
     "execution_count": 82,
     "metadata": {},
     "output_type": "execute_result"
    }
   ],
   "source": [
    "dict = [{'nama':'udin' ,'jk':'l'},{'nama':'ana' ,'jk':'p'}]\n",
    "dict[1] # butuh di looping"
   ]
  },
  {
   "cell_type": "code",
   "execution_count": 90,
   "id": "fc8c925d",
   "metadata": {},
   "outputs": [
    {
     "data": {
      "text/plain": [
       "'hello'"
      ]
     },
     "execution_count": 90,
     "metadata": {},
     "output_type": "execute_result"
    }
   ],
   "source": [
    "d = {'k1':[1,2,3,{'tricky':['oh','man','inception',{'target':[1,2,3,'hello']}]}]}\n",
    "d['k1'][-1]['tricky'][-1]['target'][-1]"
   ]
  },
  {
   "cell_type": "markdown",
   "id": "ef39512f",
   "metadata": {},
   "source": [
    "## for loop"
   ]
  },
  {
   "cell_type": "code",
   "execution_count": 91,
   "id": "156fc71a",
   "metadata": {},
   "outputs": [
    {
     "name": "stdout",
     "output_type": "stream",
     "text": [
      "aple\n",
      "peach\n",
      "mango\n"
     ]
    }
   ],
   "source": [
    "fruits = ['aple','peach','mango']\n",
    "\n",
    "for x in fruits:\n",
    "    print(x)"
   ]
  },
  {
   "cell_type": "code",
   "execution_count": 99,
   "id": "3fe09b1f",
   "metadata": {},
   "outputs": [
    {
     "name": "stdout",
     "output_type": "stream",
     "text": [
      "Input List of student height : 156 178 165 181\n",
      "[156, 178, 165, 181]\n",
      "4\n",
      "680\n",
      "170\n"
     ]
    }
   ],
   "source": [
    "# Menghitung tinggi rata2 dari setiap anak\n",
    "#input = student_height = 156 178 165 181\n",
    "#output\n",
    "\n",
    "# 1. spread into array\n",
    "student_height = input(\"Input List of student height : \").split()\n",
    "\n",
    "for n in range(0, len(student_height)):\n",
    "    student_height[n] = int(student_height[n])\n",
    "print(student_height)\n",
    "\n",
    "#using for loop to find length array\n",
    "#number_of_student = len(student_height)\n",
    "number_of_student = 0\n",
    "for student in student_height:\n",
    "    number_of_student += 1\n",
    "print(number_of_student)    \n",
    "\n",
    "# 2. find total sum\n",
    "#total_height = sum(student_height)\n",
    "total_height = 0\n",
    "for height in student_height:\n",
    "    total_height += height\n",
    "print(total_height)\n",
    "\n",
    "\n",
    "# 3. find avg\n",
    "avg_height = round(total_height/number_of_student)\n",
    "print(avg_height)"
   ]
  },
  {
   "cell_type": "code",
   "execution_count": null,
   "id": "105b0706",
   "metadata": {},
   "outputs": [],
   "source": []
  },
  {
   "cell_type": "code",
   "execution_count": 104,
   "id": "71e4580d",
   "metadata": {},
   "outputs": [
    {
     "name": "stdout",
     "output_type": "stream",
     "text": [
      "Input List of student height : 156 178 165 181\n",
      "[156, 178, 165, 181]\n",
      "181\n"
     ]
    }
   ],
   "source": [
    "## mencari siapa paling tinggi\n",
    "#input = student_height = 156 178 165 181\n",
    "#output = 181\n",
    "\n",
    "student_height = input(\"Input List of student height : \").split()\n",
    "\n",
    "for n in range(0, len(student_height)):\n",
    "    student_height[n] = int(student_height[n])\n",
    "print(student_height)\n",
    "\n",
    "# find max height\n",
    "#max_height = max(student_height)\n",
    "#print(max_height)\n",
    "max_height = 0\n",
    "\n",
    "for max in student_height:\n",
    "    if max > max_height:\n",
    "        max_height = max\n",
    "print(max_height)"
   ]
  },
  {
   "cell_type": "code",
   "execution_count": 4,
   "id": "063df642",
   "metadata": {},
   "outputs": [
    {
     "data": {
      "text/plain": [
       "15"
      ]
     },
     "execution_count": 4,
     "metadata": {},
     "output_type": "execute_result"
    }
   ],
   "source": [
    "#Range\n",
    "# jumlahkan 1 + 2 +3 + 4 + 5\n",
    "\n",
    "total  = 0\n",
    "for number in range(0, 6):\n",
    "    total += number\n",
    "total"
   ]
  },
  {
   "cell_type": "code",
   "execution_count": 9,
   "id": "c289517a",
   "metadata": {},
   "outputs": [
    {
     "name": "stdout",
     "output_type": "stream",
     "text": [
      "2550\n"
     ]
    }
   ],
   "source": [
    "# jumlahkan kelipatan 2 dari 2 - 100\n",
    "total = 0\n",
    "for number in range(0, 101, 2):\n",
    "    total += number\n",
    "print(total)"
   ]
  },
  {
   "cell_type": "code",
   "execution_count": null,
   "id": "4d0a40af",
   "metadata": {},
   "outputs": [],
   "source": [
    "# Write python function with iterate the integers from 1 - 20\n",
    "# For * 3 print 'Fizz'\n",
    "# For * 5 print 'Buzz'\n",
    "# For 3 * 5 print 'FizzBuzz'"
   ]
  }
 ],
 "metadata": {
  "kernelspec": {
   "display_name": "Python 3 (ipykernel)",
   "language": "python",
   "name": "python3"
  },
  "language_info": {
   "codemirror_mode": {
    "name": "ipython",
    "version": 3
   },
   "file_extension": ".py",
   "mimetype": "text/x-python",
   "name": "python",
   "nbconvert_exporter": "python",
   "pygments_lexer": "ipython3",
   "version": "3.9.7"
  }
 },
 "nbformat": 4,
 "nbformat_minor": 5
}
