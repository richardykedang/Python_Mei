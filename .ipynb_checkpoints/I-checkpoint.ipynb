{
 "cells": [
  {
   "cell_type": "markdown",
   "id": "3957c0b1",
   "metadata": {},
   "source": [
    "## Input\n"
   ]
  },
  {
   "cell_type": "code",
   "execution_count": null,
   "id": "16fc0ee6",
   "metadata": {},
   "outputs": [],
   "source": [
    "# combine input + string\n",
    "print('hello ' + input (\"name : \"))"
   ]
  },
  {
   "cell_type": "code",
   "execution_count": null,
   "id": "abc19a98",
   "metadata": {},
   "outputs": [],
   "source": [
    "\n",
    "len(input(\"where do you live? \"))"
   ]
  },
  {
   "cell_type": "markdown",
   "id": "037cd7c1",
   "metadata": {},
   "source": [
    "## variable"
   ]
  },
  {
   "cell_type": "code",
   "execution_count": null,
   "id": "9c0cdc40",
   "metadata": {},
   "outputs": [],
   "source": [
    "name = \"jack\"\n",
    "print(name)"
   ]
  },
  {
   "cell_type": "code",
   "execution_count": null,
   "id": "0c87714b",
   "metadata": {},
   "outputs": [],
   "source": [
    "city = len(input(\"where do you live? \"))\n",
    "print(city)"
   ]
  },
  {
   "cell_type": "markdown",
   "id": "73d50e1d",
   "metadata": {},
   "source": [
    "## logic\n",
    "\n",
    "* switch variable\n",
    "\n",
    "    input = a = 5, b = 4\n",
    "    \n",
    "    output = a = 4, b = 5"
   ]
  },
  {
   "cell_type": "code",
   "execution_count": null,
   "id": "7ab3839c",
   "metadata": {},
   "outputs": [],
   "source": [
    "a = input(\"a = \")\n",
    "b = input (\"b = \")\n",
    "c = a\n",
    "a = b \n",
    "b = c\n",
    "\n",
    "print(\"input a = \" + a)\n",
    "print(\"input b = \" + b)"
   ]
  },
  {
   "cell_type": "markdown",
   "id": "767bbfc8",
   "metadata": {},
   "source": [
    "## data type"
   ]
  },
  {
   "cell_type": "code",
   "execution_count": null,
   "id": "83baf02d",
   "metadata": {},
   "outputs": [],
   "source": [
    "#string\n",
    "print(len(\"hello\"))\n",
    "print(\"hells\"[4])\n"
   ]
  },
  {
   "cell_type": "code",
   "execution_count": null,
   "id": "b99fcf94",
   "metadata": {},
   "outputs": [],
   "source": [
    "#integer\n",
    "print(2 + 4) "
   ]
  },
  {
   "cell_type": "code",
   "execution_count": null,
   "id": "0fdf88f7",
   "metadata": {},
   "outputs": [],
   "source": [
    "#float\n",
    "print(2.5 + 2.5)\n"
   ]
  },
  {
   "cell_type": "code",
   "execution_count": null,
   "id": "da30d690",
   "metadata": {},
   "outputs": [],
   "source": [
    "#boolean\n",
    "#true/ false"
   ]
  },
  {
   "cell_type": "code",
   "execution_count": null,
   "id": "449ea480",
   "metadata": {},
   "outputs": [],
   "source": [
    "num_char = len(input (\"where do you live ? \"))\n",
    "#print(\"your city have a \" + num_char + \"character\")\n",
    "#checck data type\n",
    "#print(type(num_char))\n",
    "#solution\n",
    "#convert int into string\n",
    "num_str = str(num_char)\n",
    "print(\"your city have a \" + num_str + \"character\")"
   ]
  },
  {
   "cell_type": "code",
   "execution_count": null,
   "id": "600834dc",
   "metadata": {},
   "outputs": [],
   "source": [
    "print(type(\"2\"))"
   ]
  },
  {
   "cell_type": "code",
   "execution_count": null,
   "id": "b4df8630",
   "metadata": {},
   "outputs": [],
   "source": [
    "print(type((int(\"2\"))))"
   ]
  },
  {
   "cell_type": "markdown",
   "id": "caa8780f",
   "metadata": {},
   "source": [
    "** input two digit number\n",
    "\n",
    "input = 45\n",
    "\n",
    "output = 4 + 5 = 9"
   ]
  },
  {
   "cell_type": "code",
   "execution_count": null,
   "id": "266631fc",
   "metadata": {},
   "outputs": [],
   "source": [
    "two_digit = input(\"input two digit number\")\n",
    "\n",
    "digit_one = two_digit[0]\n",
    "\n",
    "digit_two = two_digit[1]\n",
    "\n",
    "result = int(digit_one) + int(digit_two)\n",
    "\n",
    "print(result)\n"
   ]
  },
  {
   "cell_type": "markdown",
   "id": "9244865d",
   "metadata": {},
   "source": [
    "## operator\n",
    "#### Math operator\n",
    "*/+-\n",
    "ekponential/ pangkat **\n"
   ]
  },
  {
   "cell_type": "code",
   "execution_count": null,
   "id": "f21ade82",
   "metadata": {},
   "outputs": [],
   "source": [
    "# 2 * 2 * 2\n",
    "print(2 ** 3)"
   ]
  },
  {
   "cell_type": "code",
   "execution_count": null,
   "id": "e944c52b",
   "metadata": {},
   "outputs": [],
   "source": [
    "#which operator will be assign first ?\n",
    "print(3 * 3 + 3 / 3 - 3) \n",
    "# 9 + 1 - 3"
   ]
  },
  {
   "cell_type": "markdown",
   "id": "5377d7f9",
   "metadata": {},
   "source": [
    "## exercise\n",
    "\n",
    "#### calculate body mass\n",
    "\n",
    "#### input = height , weight\n",
    "\n",
    "#### rumus = body mass = weight : height * height\n",
    "\n",
    "#### example output = 80 : 1.75 * 1.75 = 26.12xxxx"
   ]
  },
  {
   "cell_type": "code",
   "execution_count": null,
   "id": "9f28088e",
   "metadata": {},
   "outputs": [],
   "source": [
    "# solution\n",
    "\n",
    "weight = input(\"enter your weight in kg : \")\n",
    "height = input (\"enter your height in m : \")\n",
    "\n",
    "result = float(weight) / float(height) ** 2\n",
    "\n",
    "print(result)\n",
    "\n",
    "#pembulatan\n",
    "print(round(result, 2))"
   ]
  },
  {
   "cell_type": "markdown",
   "id": "93e1b2da",
   "metadata": {},
   "source": [
    "## f string / template string\n"
   ]
  },
  {
   "cell_type": "code",
   "execution_count": null,
   "id": "ac34e1c2",
   "metadata": {},
   "outputs": [],
   "source": [
    "score  = 0\n",
    "heihgt = 1.8\n",
    "#isWinning = false\n",
    "\n",
    "print(\"your score is \" + str(score) + \"your height is \" + str(heihgt))\n",
    "print(f\"your score is  {score} your height is  {heihgt}\")"
   ]
  },
  {
   "cell_type": "markdown",
   "id": "bd76eded",
   "metadata": {},
   "source": [
    "### exercise make program to calculate how much year , days, week, month remaining until 20 use f-string\n",
    "\n",
    "#### input = whats your age ? 15\n",
    "\n",
    "#### output = you have 5 year remaining until 20"
   ]
  },
  {
   "cell_type": "code",
   "execution_count": null,
   "id": "410145d7",
   "metadata": {},
   "outputs": [],
   "source": [
    "age = input(\"your age : \")\n",
    "year_remaining = 20 - int(age)\n",
    "month_remaining = year_remaining * 12\n",
    "days_remaining = year_remaining * 365\n",
    "weeks_remaining = year_remaining * 52\n",
    "\n",
    "print(f\"you have {year_remaining} year, {month_remaining} month, {weeks_remaining} weeks, {days_remaining}days until 20\")"
   ]
  },
  {
   "cell_type": "code",
   "execution_count": null,
   "id": "2a6e97aa",
   "metadata": {},
   "outputs": [],
   "source": []
  },
  {
   "cell_type": "code",
   "execution_count": null,
   "id": "9010fc0f",
   "metadata": {},
   "outputs": [],
   "source": []
  }
 ],
 "metadata": {
  "kernelspec": {
   "display_name": "Python 3 (ipykernel)",
   "language": "python",
   "name": "python3"
  },
  "language_info": {
   "codemirror_mode": {
    "name": "ipython",
    "version": 3
   },
   "file_extension": ".py",
   "mimetype": "text/x-python",
   "name": "python",
   "nbconvert_exporter": "python",
   "pygments_lexer": "ipython3",
   "version": "3.9.7"
  }
 },
 "nbformat": 4,
 "nbformat_minor": 5
}
