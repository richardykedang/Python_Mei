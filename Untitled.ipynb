{
 "cells": [
  {
   "cell_type": "markdown",
   "id": "9a35f5a5",
   "metadata": {},
   "source": [
    "## Input\n"
   ]
  },
  {
   "cell_type": "code",
   "execution_count": null,
   "id": "f48f9467",
   "metadata": {},
   "outputs": [],
   "source": [
    "# combine input + string\n",
    "print('hello ' + input (\"name : \"))"
   ]
  },
  {
   "cell_type": "code",
   "execution_count": null,
   "id": "77c20b60",
   "metadata": {},
   "outputs": [],
   "source": [
    "\n",
    "len(input(\"where do you live? \"))"
   ]
  },
  {
   "cell_type": "markdown",
   "id": "dfc4e4c9",
   "metadata": {},
   "source": [
    "## variable"
   ]
  },
  {
   "cell_type": "code",
   "execution_count": null,
   "id": "bcf1dcc4",
   "metadata": {},
   "outputs": [],
   "source": [
    "name = \"jack\"\n",
    "print(name)"
   ]
  },
  {
   "cell_type": "code",
   "execution_count": null,
   "id": "0d43af5b",
   "metadata": {},
   "outputs": [],
   "source": [
    "city = len(input(\"where do you live? \"))\n",
    "print(city)"
   ]
  },
  {
   "cell_type": "markdown",
   "id": "383205ef",
   "metadata": {},
   "source": [
    "## logic\n",
    "\n",
    "* switch variable\n",
    "\n",
    "    input = a = 5, b = 4\n",
    "    \n",
    "    output = a = 4, b = 5"
   ]
  },
  {
   "cell_type": "code",
   "execution_count": null,
   "id": "11f4fd7a",
   "metadata": {},
   "outputs": [],
   "source": [
    "a = input(\"a = \")\n",
    "b = input (\"b = \")\n",
    "c = a\n",
    "a = b \n",
    "b = c\n",
    "\n",
    "print(\"input a = \" + a)\n",
    "print(\"input b = \" + b)"
   ]
  },
  {
   "cell_type": "markdown",
   "id": "9387b52f",
   "metadata": {},
   "source": [
    "## data type"
   ]
  },
  {
   "cell_type": "code",
   "execution_count": null,
   "id": "983b8bd0",
   "metadata": {},
   "outputs": [],
   "source": [
    "#string\n",
    "print(len(\"hello\"))\n",
    "print(\"hells\"[4])\n"
   ]
  },
  {
   "cell_type": "code",
   "execution_count": null,
   "id": "5ccfea7c",
   "metadata": {},
   "outputs": [],
   "source": [
    "#integer\n",
    "print(2 + 4) "
   ]
  },
  {
   "cell_type": "code",
   "execution_count": null,
   "id": "ca269b43",
   "metadata": {},
   "outputs": [],
   "source": [
    "#float\n",
    "print(2.5 + 2.5)\n"
   ]
  },
  {
   "cell_type": "code",
   "execution_count": null,
   "id": "cceb2c86",
   "metadata": {},
   "outputs": [],
   "source": [
    "#boolean\n",
    "#true/ false"
   ]
  },
  {
   "cell_type": "code",
   "execution_count": null,
   "id": "dafa35f9",
   "metadata": {},
   "outputs": [],
   "source": [
    "num_char = len(input (\"where do you live ? \"))\n",
    "#print(\"your city have a \" + num_char + \"character\")\n",
    "#checck data type\n",
    "#print(type(num_char))\n",
    "#solution\n",
    "#convert int into string\n",
    "num_str = str(num_char)\n",
    "print(\"your city have a \" + num_str + \"character\")"
   ]
  },
  {
   "cell_type": "code",
   "execution_count": null,
   "id": "8e9dbdcc",
   "metadata": {},
   "outputs": [],
   "source": [
    "print(type(\"2\"))"
   ]
  },
  {
   "cell_type": "code",
   "execution_count": null,
   "id": "21f7e5d6",
   "metadata": {},
   "outputs": [],
   "source": [
    "print(type((int(\"2\"))))"
   ]
  },
  {
   "cell_type": "markdown",
   "id": "7d302b18",
   "metadata": {},
   "source": [
    "** input two digit number\n",
    "\n",
    "input = 45\n",
    "\n",
    "output = 4 + 5 = 9"
   ]
  },
  {
   "cell_type": "code",
   "execution_count": null,
   "id": "18a7cbb1",
   "metadata": {},
   "outputs": [],
   "source": [
    "two_digit = input(\"input two digit number\")\n",
    "\n",
    "digit_one = two_digit[0]\n",
    "\n",
    "digit_two = two_digit[1]\n",
    "\n",
    "result = int(digit_one) + int(digit_two)\n",
    "\n",
    "print(result)\n"
   ]
  },
  {
   "cell_type": "markdown",
   "id": "baca6462",
   "metadata": {},
   "source": [
    "## operator\n",
    "#### Math operator\n",
    "*/+-\n",
    "ekponential/ pangkat **\n"
   ]
  },
  {
   "cell_type": "code",
   "execution_count": null,
   "id": "0bc13bf3",
   "metadata": {},
   "outputs": [],
   "source": [
    "# 2 * 2 * 2\n",
    "print(2 ** 3)"
   ]
  },
  {
   "cell_type": "code",
   "execution_count": null,
   "id": "231edb3e",
   "metadata": {},
   "outputs": [],
   "source": [
    "#which operator will be assign first ?\n",
    "print(3 * 3 + 3 / 3 - 3) \n",
    "# 9 + 1 - 3"
   ]
  },
  {
   "cell_type": "markdown",
   "id": "42995638",
   "metadata": {},
   "source": [
    "## exercise\n",
    "\n",
    "#### calculate body mass\n",
    "\n",
    "#### input = height , weight\n",
    "\n",
    "#### rumus = body mass = weight : height * height\n",
    "\n",
    "#### example output = 80 : 1.75 * 1.75 = 26.12xxxx"
   ]
  },
  {
   "cell_type": "code",
   "execution_count": null,
   "id": "6a0152b8",
   "metadata": {},
   "outputs": [],
   "source": [
    "# solution\n",
    "\n",
    "weight = input(\"enter your weight in kg : \")\n",
    "height = input (\"enter your height in m : \")\n",
    "\n",
    "result = float(weight) / float(height) ** 2\n",
    "\n",
    "print(result)\n",
    "\n",
    "#pembulatan\n",
    "print(round(result, 2))"
   ]
  },
  {
   "cell_type": "markdown",
   "id": "b6c5e7a1",
   "metadata": {},
   "source": [
    "## f string / template string\n"
   ]
  },
  {
   "cell_type": "code",
   "execution_count": null,
   "id": "4da922bd",
   "metadata": {},
   "outputs": [],
   "source": [
    "score  = 0\n",
    "heihgt = 1.8\n",
    "#isWinning = false\n",
    "\n",
    "print(\"your score is \" + str(score) + \"your height is \" + str(heihgt))\n",
    "print(f\"your score is  {score} your height is  {heihgt}\")"
   ]
  },
  {
   "cell_type": "markdown",
   "id": "05994523",
   "metadata": {},
   "source": [
    "### exercise make program to calculate how much year , days, week, month remaining until 20 use f-string\n",
    "\n",
    "#### input = whats your age ? 15\n",
    "\n",
    "#### output = you have 5 year remaining until 20"
   ]
  },
  {
   "cell_type": "code",
   "execution_count": null,
   "id": "9bc5c8fa",
   "metadata": {},
   "outputs": [],
   "source": [
    "age = input(\"your age : \")\n",
    "year_remaining = 20 - int(age)\n",
    "month_remaining = year_remaining * 12\n",
    "days_remaining = year_remaining * 365\n",
    "weeks_remaining = year_remaining * 52\n",
    "\n",
    "print(f\"you have {year_remaining} year, {month_remaining} month, {weeks_remaining} weeks, {days_remaining}days until 20\")"
   ]
  },
  {
   "cell_type": "code",
   "execution_count": null,
   "id": "b35acbc7",
   "metadata": {},
   "outputs": [],
   "source": []
  },
  {
   "cell_type": "code",
   "execution_count": null,
   "id": "f0166f82",
   "metadata": {},
   "outputs": [],
   "source": []
  }
 ],
 "metadata": {
  "kernelspec": {
   "display_name": "Python 3 (ipykernel)",
   "language": "python",
   "name": "python3"
  },
  "language_info": {
   "codemirror_mode": {
    "name": "ipython",
    "version": 3
   },
   "file_extension": ".py",
   "mimetype": "text/x-python",
   "name": "python",
   "nbconvert_exporter": "python",
   "pygments_lexer": "ipython3",
   "version": "3.9.7"
  }
 },
 "nbformat": 4,
 "nbformat_minor": 5
}
