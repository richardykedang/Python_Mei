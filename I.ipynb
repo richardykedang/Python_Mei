{
 "cells": [
  {
   "cell_type": "markdown",
   "id": "3957c0b1",
   "metadata": {},
   "source": [
    "## Input\n"
   ]
  },
  {
   "cell_type": "code",
   "execution_count": 1,
   "id": "16fc0ee6",
   "metadata": {},
   "outputs": [
    {
     "name": "stdout",
     "output_type": "stream",
     "text": [
      "name : tes\n",
      "hello tes\n"
     ]
    }
   ],
   "source": [
    "# combine input + string\n",
    "print('hello ' + input (\"name : \"))"
   ]
  },
  {
   "cell_type": "code",
   "execution_count": 2,
   "id": "abc19a98",
   "metadata": {},
   "outputs": [
    {
     "name": "stdout",
     "output_type": "stream",
     "text": [
      "where do you live? jk\n"
     ]
    },
    {
     "data": {
      "text/plain": [
       "2"
      ]
     },
     "execution_count": 2,
     "metadata": {},
     "output_type": "execute_result"
    }
   ],
   "source": [
    "\n",
    "len(input(\"where do you live? \"))"
   ]
  },
  {
   "cell_type": "markdown",
   "id": "037cd7c1",
   "metadata": {},
   "source": [
    "## variable"
   ]
  },
  {
   "cell_type": "code",
   "execution_count": 3,
   "id": "9c0cdc40",
   "metadata": {},
   "outputs": [
    {
     "name": "stdout",
     "output_type": "stream",
     "text": [
      "jack\n"
     ]
    }
   ],
   "source": [
    "name = \"jack\"\n",
    "print(name)"
   ]
  },
  {
   "cell_type": "code",
   "execution_count": 4,
   "id": "0c87714b",
   "metadata": {},
   "outputs": [
    {
     "name": "stdout",
     "output_type": "stream",
     "text": [
      "where do you live? e\n",
      "1\n"
     ]
    }
   ],
   "source": [
    "city = len(input(\"where do you live? \"))\n",
    "print(city)"
   ]
  },
  {
   "cell_type": "markdown",
   "id": "73d50e1d",
   "metadata": {},
   "source": [
    "## logic\n",
    "\n",
    "* switch variable\n",
    "\n",
    "    input = a = 5, b = 4\n",
    "    \n",
    "    output = a = 4, b = 5"
   ]
  },
  {
   "cell_type": "code",
   "execution_count": 5,
   "id": "7ab3839c",
   "metadata": {},
   "outputs": [
    {
     "name": "stdout",
     "output_type": "stream",
     "text": [
      "a = 23\n",
      "b = 2\n",
      "input a = 2\n",
      "input b = 23\n"
     ]
    }
   ],
   "source": [
    "a = input(\"a = \")\n",
    "b = input (\"b = \")\n",
    "c = a\n",
    "a = b \n",
    "b = c\n",
    "\n",
    "print(\"input a = \" + a)\n",
    "print(\"input b = \" + b)"
   ]
  },
  {
   "cell_type": "markdown",
   "id": "767bbfc8",
   "metadata": {},
   "source": [
    "## data type"
   ]
  },
  {
   "cell_type": "code",
   "execution_count": 6,
   "id": "83baf02d",
   "metadata": {},
   "outputs": [
    {
     "name": "stdout",
     "output_type": "stream",
     "text": [
      "5\n",
      "s\n"
     ]
    }
   ],
   "source": [
    "#string\n",
    "print(len(\"hello\"))\n",
    "print(\"hells\"[4])\n"
   ]
  },
  {
   "cell_type": "code",
   "execution_count": 7,
   "id": "b99fcf94",
   "metadata": {},
   "outputs": [
    {
     "name": "stdout",
     "output_type": "stream",
     "text": [
      "6\n"
     ]
    }
   ],
   "source": [
    "#integer\n",
    "print(2 + 4) "
   ]
  },
  {
   "cell_type": "code",
   "execution_count": 8,
   "id": "0fdf88f7",
   "metadata": {},
   "outputs": [
    {
     "name": "stdout",
     "output_type": "stream",
     "text": [
      "5.0\n"
     ]
    }
   ],
   "source": [
    "#float\n",
    "print(2.5 + 2.5)\n"
   ]
  },
  {
   "cell_type": "code",
   "execution_count": 9,
   "id": "da30d690",
   "metadata": {},
   "outputs": [],
   "source": [
    "#boolean\n",
    "#true/ false"
   ]
  },
  {
   "cell_type": "code",
   "execution_count": 10,
   "id": "449ea480",
   "metadata": {},
   "outputs": [
    {
     "name": "stdout",
     "output_type": "stream",
     "text": [
      "where do you live ? E\n",
      "your city have a 1character\n"
     ]
    }
   ],
   "source": [
    "num_char = len(input (\"where do you live ? \"))\n",
    "#print(\"your city have a \" + num_char + \"character\")\n",
    "#checck data type\n",
    "#print(type(num_char))\n",
    "#solution\n",
    "#convert int into string\n",
    "num_str = str(num_char)\n",
    "print(\"your city have a \" + num_str + \"character\")"
   ]
  },
  {
   "cell_type": "code",
   "execution_count": 11,
   "id": "600834dc",
   "metadata": {},
   "outputs": [
    {
     "name": "stdout",
     "output_type": "stream",
     "text": [
      "<class 'str'>\n"
     ]
    }
   ],
   "source": [
    "print(type(\"2\"))"
   ]
  },
  {
   "cell_type": "code",
   "execution_count": 12,
   "id": "b4df8630",
   "metadata": {},
   "outputs": [
    {
     "name": "stdout",
     "output_type": "stream",
     "text": [
      "<class 'int'>\n"
     ]
    }
   ],
   "source": [
    "print(type((int(\"2\"))))"
   ]
  },
  {
   "cell_type": "markdown",
   "id": "caa8780f",
   "metadata": {},
   "source": [
    "** input two digit number\n",
    "\n",
    "input = 45\n",
    "\n",
    "output = 4 + 5 = 9"
   ]
  },
  {
   "cell_type": "code",
   "execution_count": 13,
   "id": "266631fc",
   "metadata": {},
   "outputs": [
    {
     "name": "stdout",
     "output_type": "stream",
     "text": [
      "input two digit number21\n",
      "3\n"
     ]
    }
   ],
   "source": [
    "two_digit = input(\"input two digit number\")\n",
    "\n",
    "digit_one = two_digit[0]\n",
    "\n",
    "digit_two = two_digit[1]\n",
    "\n",
    "result = int(digit_one) + int(digit_two)\n",
    "\n",
    "print(result)\n"
   ]
  },
  {
   "cell_type": "markdown",
   "id": "9244865d",
   "metadata": {},
   "source": [
    "## operator\n",
    "#### Math operator\n",
    "*/+-\n",
    "ekponential/ pangkat **\n"
   ]
  },
  {
   "cell_type": "code",
   "execution_count": 14,
   "id": "f21ade82",
   "metadata": {},
   "outputs": [
    {
     "name": "stdout",
     "output_type": "stream",
     "text": [
      "8\n"
     ]
    }
   ],
   "source": [
    "# 2 * 2 * 2\n",
    "print(2 ** 3)"
   ]
  },
  {
   "cell_type": "code",
   "execution_count": 15,
   "id": "e944c52b",
   "metadata": {},
   "outputs": [
    {
     "name": "stdout",
     "output_type": "stream",
     "text": [
      "7.0\n"
     ]
    }
   ],
   "source": [
    "#which operator will be assign first ?\n",
    "print(3 * 3 + 3 / 3 - 3) \n",
    "# 9 + 1 - 3"
   ]
  },
  {
   "cell_type": "markdown",
   "id": "5377d7f9",
   "metadata": {},
   "source": [
    "## exercise\n",
    "\n",
    "#### calculate body mass\n",
    "\n",
    "#### input = height , weight\n",
    "\n",
    "#### rumus = body mass = weight : height * height\n",
    "\n",
    "#### example output = 80 : 1.75 * 1.75 = 26.12xxxx"
   ]
  },
  {
   "cell_type": "code",
   "execution_count": 16,
   "id": "9f28088e",
   "metadata": {},
   "outputs": [
    {
     "name": "stdout",
     "output_type": "stream",
     "text": [
      "enter your weight in kg : 3\n",
      "enter your height in m : 2\n",
      "0.75\n",
      "0.75\n"
     ]
    }
   ],
   "source": [
    "# solution\n",
    "\n",
    "weight = input(\"enter your weight in kg : \")\n",
    "height = input (\"enter your height in m : \")\n",
    "\n",
    "result = float(weight) / float(height) ** 2\n",
    "\n",
    "print(result)\n",
    "\n",
    "#pembulatan\n",
    "print(round(result, 2))"
   ]
  },
  {
   "cell_type": "markdown",
   "id": "93e1b2da",
   "metadata": {},
   "source": [
    "## f string / template string\n"
   ]
  },
  {
   "cell_type": "code",
   "execution_count": 17,
   "id": "ac34e1c2",
   "metadata": {},
   "outputs": [
    {
     "name": "stdout",
     "output_type": "stream",
     "text": [
      "your score is 0your height is 1.8\n",
      "your score is  0 your height is  1.8\n"
     ]
    }
   ],
   "source": [
    "score  = 0\n",
    "heihgt = 1.8\n",
    "#isWinning = false\n",
    "\n",
    "print(\"your score is \" + str(score) + \"your height is \" + str(heihgt))\n",
    "print(f\"your score is  {score} your height is  {heihgt}\")"
   ]
  },
  {
   "cell_type": "markdown",
   "id": "bd76eded",
   "metadata": {},
   "source": [
    "### exercise make program to calculate how much year , days, week, month remaining until 20 use f-string\n",
    "\n",
    "#### input = whats your age ? 15\n",
    "\n",
    "#### output = you have 5 year remaining until 20"
   ]
  },
  {
   "cell_type": "code",
   "execution_count": 18,
   "id": "410145d7",
   "metadata": {},
   "outputs": [
    {
     "name": "stdout",
     "output_type": "stream",
     "text": [
      "your age : 15\n",
      "you have 5 year, 60 month, 260 weeks, 1825days until 20\n"
     ]
    }
   ],
   "source": [
    "age = input(\"your age : \")\n",
    "year_remaining = 20 - int(age)\n",
    "month_remaining = year_remaining * 12\n",
    "days_remaining = year_remaining * 365\n",
    "weeks_remaining = year_remaining * 52\n",
    "\n",
    "print(f\"you have {year_remaining} year, {month_remaining} month, {weeks_remaining} weeks, {days_remaining}days until 20\")"
   ]
  },
  {
   "cell_type": "code",
   "execution_count": null,
   "id": "2a6e97aa",
   "metadata": {},
   "outputs": [],
   "source": []
  },
  {
   "cell_type": "markdown",
   "id": "bc64ad37",
   "metadata": {},
   "source": [
    "## If else\n",
    "\n",
    "if condition == true: \n",
    "    print(\"something\")\n",
    "    \n",
    "else:\n",
    "    print(\"something\")"
   ]
  },
  {
   "cell_type": "code",
   "execution_count": 20,
   "id": "c272bc42",
   "metadata": {},
   "outputs": [
    {
     "name": "stdout",
     "output_type": "stream",
     "text": [
      "keep load\n"
     ]
    }
   ],
   "source": [
    "debit_air = 70\n",
    "\n",
    "if debit_air >= 80:\n",
    "    print(\"draining water\")\n",
    "else:\n",
    "    print(\"keep load\")   "
   ]
  },
  {
   "cell_type": "code",
   "execution_count": 22,
   "id": "73baa169",
   "metadata": {},
   "outputs": [
    {
     "name": "stdout",
     "output_type": "stream",
     "text": [
      "Welcome to thee roller coaster\n",
      "whats your height in cm : 100\n",
      "sorry you hv to grow taller\n"
     ]
    }
   ],
   "source": [
    "# combine with input\n",
    "print(\"Welcome to thee roller coaster\")\n",
    "height = int(input(\"whats your height in cm : \"))\n",
    "\n",
    "if height >= 115:\n",
    "    print(\"you can ride the roller coaster\")\n",
    "else:\n",
    "    print(\"sorry you hv to grow taller\")"
   ]
  },
  {
   "cell_type": "code",
   "execution_count": 23,
   "id": "69c3c9c1",
   "metadata": {},
   "outputs": [
    {
     "name": "stdout",
     "output_type": "stream",
     "text": [
      "Provide your number : 1\n",
      "1 is ganjil\n"
     ]
    }
   ],
   "source": [
    "# check ganjil or genap\n",
    "number = int(input(\"Provide your number : \"))\n",
    "\n",
    "if number % 2 == 0:\n",
    "    print(f\"{number} is genap\")\n",
    "else:\n",
    "    print(f\"{number} is ganjil\")"
   ]
  },
  {
   "cell_type": "code",
   "execution_count": 27,
   "id": "9a377efd",
   "metadata": {},
   "outputs": [
    {
     "name": "stdout",
     "output_type": "stream",
     "text": [
      "whats your height : 110\n",
      "whats your age : 12\n",
      "sorry\n"
     ]
    }
   ],
   "source": [
    "height = int(input(\"whats your height : \") )\n",
    "age = int(input(\"whats your age : \") )\n",
    "\n",
    "if height >= 120:\n",
    "    print(\"you can ride\")\n",
    "    if age < 12:\n",
    "        print(\"please pay $5\")\n",
    "    elif age < 18:\n",
    "        print(\"please pay $7\")\n",
    "    else:\n",
    "        print(\"please pay $12\")\n",
    "else:\n",
    "    print(\"sorry\")"
   ]
  },
  {
   "cell_type": "markdown",
   "id": "7ed115bc",
   "metadata": {},
   "source": [
    "## exercise body mass index\n",
    "#### input : height , weight\n",
    "#### output : under 18.5 they are underweight\n",
    "#### over 18.5 but bellow 25 hv normal weight\n",
    "#### over 25 but bellow 30 they are over weight\n",
    "#### above 35 they are clinically obese\n",
    "#### rumus = BMI = weight / height\n"
   ]
  },
  {
   "cell_type": "code",
   "execution_count": 34,
   "id": "8c107c3d",
   "metadata": {},
   "outputs": [
    {
     "name": "stdout",
     "output_type": "stream",
     "text": [
      "whats your weight:  100\n",
      "whats your height in cm : 165\n",
      "1 is underweight\n"
     ]
    }
   ],
   "source": [
    "weight = float(input(\"whats your weight:  \"))\n",
    "height = float(input(\"whats your height in cm : \"))\n",
    "\n",
    "bmi = round(weight / height)\n",
    "\n",
    "if bmi < 18.5:\n",
    "    print(f'{bmi} is underweight')\n",
    "elif bmi < 25:\n",
    "    print(f'{bmi} is normal weight')\n",
    "elif bmi < 30:\n",
    "    print(f'{bmi} is over weight')\n",
    "else:\n",
    "    print(f'{bmi} clinically obese')"
   ]
  },
  {
   "cell_type": "code",
   "execution_count": 35,
   "id": "51027971",
   "metadata": {},
   "outputs": [
    {
     "name": "stdout",
     "output_type": "stream",
     "text": [
      "whats your height : 125\n",
      "whats your age : 12\n",
      "you can ride\n",
      "please pay $7\n",
      "Do you wany a photo taken ? Y or Ny\n",
      "your bill is 10\n"
     ]
    }
   ],
   "source": [
    "height = int(input(\"whats your height : \") )\n",
    "age = int(input(\"whats your age : \") )\n",
    "bill = 0\n",
    "\n",
    "if height > 120:\n",
    "    print(\"you can ride\")\n",
    "    if age < 12:\n",
    "        bill = 5\n",
    "        print(\"please pay $5\")\n",
    "    elif age < 18:\n",
    "        bill = 7\n",
    "        print(\"please pay $7\")\n",
    "    else:\n",
    "        bill = 12\n",
    "        print(\"please pay $12\")\n",
    "    photo = input(\"Do you wany a photo taken ? Y or N \")\n",
    "    if photo == \"Y\" or photo == \"y\":\n",
    "        bill += 3\n",
    "        print(f\"your bill is {bill}\")\n",
    "    else:\n",
    "        print(f\"your bill is {bill}\")\n",
    "else:\n",
    "    print(\"sorry\")"
   ]
  },
  {
   "cell_type": "code",
   "execution_count": null,
   "id": "a0eac524",
   "metadata": {},
   "outputs": [],
   "source": []
  }
 ],
 "metadata": {
  "kernelspec": {
   "display_name": "Python 3 (ipykernel)",
   "language": "python",
   "name": "python3"
  },
  "language_info": {
   "codemirror_mode": {
    "name": "ipython",
    "version": 3
   },
   "file_extension": ".py",
   "mimetype": "text/x-python",
   "name": "python",
   "nbconvert_exporter": "python",
   "pygments_lexer": "ipython3",
   "version": "3.9.7"
  }
 },
 "nbformat": 4,
 "nbformat_minor": 5
}
